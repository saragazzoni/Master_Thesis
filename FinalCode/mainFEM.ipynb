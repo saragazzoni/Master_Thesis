{
 "cells": [
  {
   "cell_type": "code",
   "execution_count": null,
   "metadata": {},
   "outputs": [],
   "source": [
    "from dolfin import *\n",
    "import matplotlib.pyplot as plt\n",
    "import numpy as np\n",
    "import solver as sol\n"
   ]
  },
  {
   "cell_type": "markdown",
   "metadata": {},
   "source": [
    "## 1D Model\n"
   ]
  },
  {
   "cell_type": "code",
   "execution_count": null,
   "metadata": {},
   "outputs": [],
   "source": [
    "mesh = UnitSquareMesh(20,20)\n",
    "m0 = 1e-3\n",
    "dt = 0.5\n",
    "T = 150\n",
    "save_interval = 2\n",
    "times = []#[0,7/dt,14/dt,21/dt,28/dt]\n",
    "doses = []#10*np.ones_like(times)\n",
    "V = FunctionSpace(mesh,\"P\",2)\n",
    "n0 = Expression(\"m0/(pow(2*pi,0.5)*sigma)*exp(-pow(x[1]-s0,2)/(2*sigma*sigma))\",m0 = m0,s0 = 0.5,sigma=sqrt(0.02),degree=2)\n",
    "n0 = interpolate(n0,V)\n",
    "c0 = interpolate(Constant(1.0), V)\n",
    "f = Constant(0.0)\n",
    "path_sol = \"solutions/test1D\"\n",
    "\n",
    "solver = sol.Solver1D(mesh, V, n0, c0, dt, T, save_interval, times, doses, path_sol, f)\n",
    "# solver.set_parameters({'K_m':0.005})\n",
    "solver.solve()"
   ]
  },
  {
   "cell_type": "code",
   "execution_count": null,
   "metadata": {},
   "outputs": [],
   "source": [
    "mass = np.load('solutions/test1D/mass.npy')\n",
    "plt.plot(mass)"
   ]
  },
  {
   "cell_type": "code",
   "execution_count": null,
   "metadata": {},
   "outputs": [],
   "source": [
    "mesh = UnitSquareMesh(20,20)\n",
    "dt = 0.1\n",
    "T = 10\n",
    "save_interval = 10\n",
    "path_init = '../Model1D/solutions/B_Km1e-2' # path to the initial conditions\n",
    "c0file = XDMFFile(f'{path_init}/c.xdmf')\n",
    "n0file = XDMFFile(f'{path_init}/n.xdmf')\n",
    "V = FunctionSpace(mesh,\"P\",2)\n",
    "c0 = Function(V)\n",
    "n0 = Function(V)\n",
    "c0file.read_checkpoint(c0,\"c\",100)\n",
    "n0file.read_checkpoint(n0,\"n\",100)\n",
    "times = [1,8,15,22,29]\n",
    "doses = 10*np.ones_like(times)\n",
    "f = Constant(0.0)\n",
    "\n",
    "path_sol = \"solutions/test_uhfrt\"\n",
    "\n",
    "solver = sol.Solver1D(mesh, V, n0, c0, dt, T, save_interval, times, doses, path_sol,f)\n",
    "solver.bdf2()"
   ]
  },
  {
   "cell_type": "markdown",
   "metadata": {},
   "source": [
    "## 2D Model"
   ]
  },
  {
   "cell_type": "code",
   "execution_count": null,
   "metadata": {},
   "outputs": [],
   "source": [
    "mesh = BoxMesh(Point(-1, -1, 0), Point(1, 1, 1), 20, 20, 10)\n",
    "m0 = 1e-3\n",
    "dt = 0.5\n",
    "T = 5\n",
    "save_interval = 2\n",
    "times = [] #[0,7/dt,14/dt,21/dt,28/dt]\n",
    "doses = [] #10*np.ones_like(times)  \n",
    "V = FunctionSpace(mesh,\"P\",2)\n",
    "n0 = Expression(\"m0/(pow(2*pi,0.5)*sigma)*exp(-pow(x[2]-s0,2)/(2*sigma*sigma) - x[0]*x[0]/(2*sigma_x*sigma_x) - x[1]*x[1]/(2*sigma_x*sigma_x))\",\n",
    "                m0 = m0,s0 = 0.5,sigma=sqrt(0.02),sigma_x = sqrt(0.008),degree=2)\n",
    "n0 = interpolate(n0,V)\n",
    "c0 = interpolate(Constant(1.0), V)\n",
    "f = Expression('3*1e5*exp(-x[0]*x[0]/(sigma_v*sigma_v) - x[1]*x[1]/(sigma_v*sigma_v))',sigma_v = 0.1,degree=2)\n",
    "path_sol = \"solutions/test2D2\"\n",
    "\n",
    "solver = sol.Solver2D(mesh, V, n0, c0, dt, T, save_interval, times, doses, path_sol, f, sym=False)\n",
    "solver.solve()"
   ]
  },
  {
   "cell_type": "code",
   "execution_count": null,
   "metadata": {},
   "outputs": [],
   "source": []
  }
 ],
 "metadata": {
  "kernelspec": {
   "display_name": "myfenics",
   "language": "python",
   "name": "python3"
  },
  "language_info": {
   "codemirror_mode": {
    "name": "ipython",
    "version": 3
   },
   "file_extension": ".py",
   "mimetype": "text/x-python",
   "name": "python",
   "nbconvert_exporter": "python",
   "pygments_lexer": "ipython3",
   "version": "3.11.3"
  }
 },
 "nbformat": 4,
 "nbformat_minor": 2
}
